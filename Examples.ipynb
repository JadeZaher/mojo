{
 "cells": [
  {
   "cell_type": "code",
   "execution_count": 34,
   "id": "e5573bbb-27f9-472f-a0b4-249afa0090cb",
   "metadata": {},
   "outputs": [
    {
     "name": "stdout",
     "output_type": "stream",
     "text": [
      "{'name': 'Death Star', 'model': 'DS-1 Orbital Battle Station', 'manufacturer': 'Imperial Department of Military Research, Sienar Fleet Systems', 'cost_in_credits': '1000000000000', 'length': '120000', 'max_atmosphering_speed': 'n/a', 'crew': '342,953', 'passengers': '843,342', 'cargo_capacity': '1000000000000', 'consumables': '3 years', 'hyperdrive_rating': '4.0', 'MGLT': '10', 'starship_class': 'Deep Space Mobile Battlestation', 'pilots': [], 'films': ['https://swapi.dev/api/films/1/'], 'created': '2014-12-10T16:36:50.509000Z', 'edited': '2014-12-20T21:26:24.783000Z', 'url': 'https://swapi.dev/api/starships/9/'}\n"
     ]
    }
   ],
   "source": [
    "   from python import Python\n",
    "\n",
    "   let r = Python.import_module(\"requests\")\n",
    "   let d = Python.import_module(\"django\")\n",
    "   let res = r.get('https://swapi.dev/api/starships/9/')\n",
    "   print(res.json())"
   ]
  },
  {
   "cell_type": "code",
   "execution_count": 35,
   "id": "b018c28c-c238-45e8-8c2d-406071e4607f",
   "metadata": {},
   "outputs": [
    {
     "name": "stdout",
     "output_type": "stream",
     "text": [
      "420 96 42\n"
     ]
    }
   ],
   "source": [
    "# assingment types\n",
    "# first you have let for declaring constant values my js brain is in trouble\n",
    "let x = 420\n",
    "\n",
    "# second is var which will give you back your filthy mutability.\n",
    "var y = 69\n",
    "y = 96\n",
    "\n",
    "# finally we have alias which is like let but at compile time! It's normally used for importing modules for that reason. \n",
    "alias a = 42\n",
    "\n",
    "print(x, y, a)"
   ]
  },
  {
   "cell_type": "code",
   "execution_count": 46,
   "id": "e2b848cd",
   "metadata": {},
   "outputs": [
    {
     "name": "stderr",
     "output_type": "stream",
     "text": [
      "error: \u001b[0;1;31m\u001b[1mExpression [46]:8:8: \u001b[0m\u001b[1mcannot use a dynamic value in type specification\n",
      "\u001b[0mvar o: o = o(\"string\", \"string\")\n",
      "\u001b[0;1;32m       ^\n",
      "\u001b[0m\u001b[0m\n",
      "expression failed to parse (no further compiler diagnostics)"
     ]
    }
   ],
   "source": [
    "struct o : \n",
    "    var key: String\n",
    "    var val: String\n",
    "    fn __init__(inout self, key: String, val: String):\n",
    "        self.key = key\n",
    "        self.val = val\n",
    "\n",
    "var o: o = o(\"string\", \"string\")\n",
    "print(o.key)"
   ]
  },
  {
   "cell_type": "code",
   "execution_count": null,
   "id": "41f575e0",
   "metadata": {},
   "outputs": [],
   "source": []
  }
 ],
 "metadata": {
  "kernelspec": {
   "display_name": "Mojo",
   "language": "mojo",
   "name": "mojo-jupyter-kernel"
  },
  "language_info": {
   "codemirror_mode": {
    "name": "mojo"
   },
   "file_extension": ".mojo",
   "mimetype": "text/x-mojo",
   "name": "mojo"
  }
 },
 "nbformat": 4,
 "nbformat_minor": 5
}
